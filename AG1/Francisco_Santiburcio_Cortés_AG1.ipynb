{
  "nbformat": 4,
  "nbformat_minor": 0,
  "metadata": {
    "colab": {
      "provenance": [],
      "include_colab_link": true
    },
    "kernelspec": {
      "name": "python3",
      "display_name": "Python 3"
    },
    "language_info": {
      "name": "python"
    }
  },
  "cells": [
    {
      "cell_type": "markdown",
      "metadata": {
        "id": "view-in-github",
        "colab_type": "text"
      },
      "source": [
        "<a href=\"https://colab.research.google.com/github/FranSC16/03MAIR---Algoritmos-de-Optimizacion/blob/main/AG1/Francisco_Santiburcio_Cort%C3%A9s_AG1.ipynb\" target=\"_parent\"><img src=\"https://colab.research.google.com/assets/colab-badge.svg\" alt=\"Open In Colab\"/></a>"
      ]
    },
    {
      "cell_type": "markdown",
      "metadata": {
        "id": "GG2D6vLdYwwy"
      },
      "source": [
        "Actividad Guiada 1 de Algoritmos de Optimizacion\n",
        "\n",
        "Nombre: Francisco Santiburcio Cortés\n",
        "\n",
        "https://colab.research.google.com/drive/1TdwZDTWcjDLvv19dxebHyeODLYHkjQIX?usp=sharing\n",
        "\n",
        "https://github.com/FranSC16/03MAIR---Algoritmos-de-Optimizacion"
      ]
    },
    {
      "cell_type": "code",
      "metadata": {
        "id": "rTiqLuX2ZKuL"
      },
      "source": [
        "#Torres de Hanoi - Divide y venceras\n",
        "################################################################################\n",
        "\n",
        "\n",
        "################################################################\n",
        "def Torres_Hanoi(N, desde, hasta):\n",
        "  #N - Nº de fichas\n",
        "  #desde - torre inicial\n",
        "  #hasta - torre fina\n",
        "  if N==1 :\n",
        "    print(\"Lleva la ficha desde \" + str(desde) + \" hasta \" + str(hasta))\n",
        "\n",
        "  else:\n",
        "    Torres_Hanoi(N-1, desde, 6-desde-hasta)\n",
        "    print(\"Lleva la ficha desde \" + str(desde) + \" hasta \" + str(hasta))\n",
        "    Torres_Hanoi(N-1, 6-desde-hasta,  hasta)\n",
        "\n",
        "Torres_Hanoi(2, 1, 3)"
      ],
      "execution_count": null,
      "outputs": []
    },
    {
      "cell_type": "code",
      "metadata": {
        "id": "YwBudj2hYoMR"
      },
      "source": [
        "#Cambio de monedas - Técnica voraz\n",
        "\n",
        "SISTEMA = [12, 5 ,2, 1  ]\n",
        "\n",
        "def cambio_monedas(CANTIDAD,SISTEMA):\n",
        "#....\n",
        "  SOLUCION = [0]*len(SISTEMA)\n",
        "  ValorAcumulado = 0\n",
        "\n",
        "  for i,valor in enumerate(SISTEMA):\n",
        "    monedas = (CANTIDAD-ValorAcumulado)//valor\n",
        "    SOLUCION[i] = monedas\n",
        "    ValorAcumulado = ValorAcumulado + monedas*valor\n",
        "\n",
        "    if CANTIDAD == ValorAcumulado:\n",
        "      return SOLUCION\n",
        "\n",
        "  print(\"No es posible encontrar solucion\") \n",
        "cambio_monedas(15,SISTEMA)\n"
      ],
      "execution_count": null,
      "outputs": []
    },
    {
      "cell_type": "code",
      "metadata": {
        "id": "9toJ4WjhQUNj"
      },
      "source": [],
      "execution_count": null,
      "outputs": []
    },
    {
      "cell_type": "code",
      "metadata": {
        "id": "H4Iwt2XRZTFr"
      },
      "source": [
        "#N Reinas - Vuelta Atrás()\n",
        "################################################################################\n",
        "\n",
        "#Verifica que en la solución parcial no hay amenzas entre reinas\n",
        "################################################################\n",
        "def es_prometedora(SOLUCION,etapa):\n",
        "################################################################\n",
        "  #print(SOLUCION)\n",
        "  #Si la solución tiene dos valores iguales no es valida => Dos reinas en la misma fila\n",
        "  for i in range(etapa+1):\n",
        "    if SOLUCION.count(SOLUCION[i]) > 1:       \n",
        "      return False\n",
        "  \n",
        "    #Verifica las diagonales\n",
        "    for j in range(i+1, etapa +1 ):\n",
        "      if abs(i-j) == abs(SOLUCION[i]-SOLUCION[j]) : return False\n",
        "  return True\n",
        "\n",
        "#Traduce la solución al tablero\n",
        "################################################################\n",
        "def escribe_solucion(S):\n",
        "################################################################\n",
        "  n = len(S)\n",
        "  for x in range(n):\n",
        "    print(\"\")\n",
        "    for i in range(n):\n",
        "      if S[i] == x+1:\n",
        "        print(\" X \" , end=\"\")\n",
        "      else:\n",
        "        print(\" - \", end=\"\")\n",
        "\n",
        "\n",
        "\n",
        "#Proceso principal de N-Reinas\n",
        "################################################################\n",
        "def reinas(N, solucion=[],etapa=0): \n",
        "################################################################\n",
        "### ....\n",
        "  if len(solucion) == 0:         # [0,0,0...]\n",
        "    solucion = [0 for i in range(N) ]\n",
        "  \n",
        "  for i in range(1, N+1):\n",
        "    solucion[etapa] = i\n",
        "    if es_prometedora(solucion, etapa):\n",
        "      if etapa == N-1:\n",
        "        print(solucion)\n",
        "      else:  \n",
        "        reinas(N, solucion, etapa+1)\n",
        "    else:\n",
        "      None\n",
        "  \n",
        "  solucion[etapa] = 0\n",
        "\n",
        "reinas(8,solucion=[],etapa=0)"
      ],
      "execution_count": null,
      "outputs": []
    },
    {
      "cell_type": "code",
      "metadata": {
        "id": "eTZclKH9QV0R"
      },
      "source": [
        "escribe_solucion([1, 5, 8, 6, 3, 7, 2, 4])"
      ],
      "execution_count": null,
      "outputs": []
    },
    {
      "cell_type": "code",
      "metadata": {
        "id": "TocxR55dQWq5"
      },
      "source": [
        "#Viaje por el rio - Programación dinámica\n",
        "################################################################################\n",
        "\n",
        "TARIFAS = [\n",
        "[0,5,4,3,999,999,999],\n",
        "[999,0,999,2,3,999,11],\n",
        "[999,999, 0,1,999,4,10],\n",
        "[999,999,999, 0,5,6,9],\n",
        "[999,999, 999,999,0,999,4],\n",
        "[999,999, 999,999,999,0,3],\n",
        "[999,999,999,999,999,999,0]\n",
        "]\n",
        "\n",
        "#999 se puede sustituir por float(\"inf\")\n",
        "\n",
        "\n",
        "#Calculo de la matriz de PRECIOS y RUTAS\n",
        "################################################################  \n",
        "def Precios(TARIFAS):\n",
        "################################################################  \n",
        "  #Total de Nodos\n",
        "  N = len(TARIFAS[0])\n",
        "  \n",
        "  #Inicialización de la tabla de precios\n",
        "  PRECIOS = [ [9999]*N for i in [9999]*N]\n",
        "  RUTA = [ [\"\"]*N for i in [\"\"]*N]\n",
        "  \n",
        "  for i in range(0,N-1):\n",
        "    RUTA[i][i] = i             #Para ir de i a i se \"pasa por i\"\n",
        "    PRECIOS[i][i] = 0          #Para ir de i a i se se paga 0\n",
        "    for j in range(i+1, N):\n",
        "      MIN = TARIFAS[i][j]\n",
        "      RUTA[i][j] = i         \n",
        "      \n",
        "      for k in range(i, j):\n",
        "        if PRECIOS[i][k] + TARIFAS[k][j] < MIN:\n",
        "            MIN = min(MIN, PRECIOS[i][k] + TARIFAS[k][j] )\n",
        "            RUTA[i][j] = k          #Anota que para ir de i a j hay que pasar por k\n",
        "        PRECIOS[i][j] = MIN\n",
        "        \n",
        "  return PRECIOS,RUTA\n",
        "################################################################  \n",
        "\n",
        "PRECIOS,RUTA = Precios(TARIFAS)  \n",
        "#print(PRECIOS[0][6])\n",
        "\n",
        "print(\"PRECIOS\")\n",
        "for i in range(len(TARIFAS)):\n",
        "  print(PRECIOS[i])\n",
        "\n",
        "print(\"\\nRUTA\")  \n",
        "for i in range(len(TARIFAS)):\n",
        "  print(RUTA[i])  \n",
        "  \n",
        "#Determinar la ruta con Recursividad\n",
        "def calcular_ruta(RUTA, desde, hasta):\n",
        "  if desde == hasta:\n",
        "    #print(\"Ir a :\" + str(desde))\n",
        "    return \"\" \n",
        "  else:\n",
        "    return str(calcular_ruta( RUTA, desde, RUTA[desde][hasta])) +  \\\n",
        "                ',' + \\\n",
        "                str(RUTA[desde][hasta] \\\n",
        "              ) \n",
        "\n",
        "print(\"\\nLa ruta es:\")  \n",
        "calcular_ruta(RUTA, 0,6)  "
      ],
      "execution_count": null,
      "outputs": []
    },
    {
      "cell_type": "code",
      "source": [
        "# 1.- 1D a fuerza bruta (1 Diseño) \n",
        "import numpy as np\n",
        "import random\n",
        "import time\n",
        "Lista_1D = [random.randrange(10000) for x in range(950)]\n",
        "def mas_cercanos(lst):\n",
        "  if len(lst) < 3:\n",
        "    return [lst[0],[1]]\n",
        "  lista_pareja_mínimos = list()\n",
        "  lista_mínimos = list()\n",
        "  for i,value in enumerate(lst):\n",
        "    lst_diferencias = list(abs(np.array(lst)-value))\n",
        "    lst_filtrada = list(filter(lambda x: x != 0,lst_diferencias))\n",
        "    lista_pareja_mínimos.append([i,lst_diferencias.index(min(lst_filtrada))])\n",
        "    lista_mínimos.append(min(lst_filtrada))\n",
        "  pareja = lista_pareja_mínimos[lista_mínimos.index(min(lista_mínimos))]\n",
        "  return [lst[pareja[0]],lst[pareja[1]]]\n",
        "# mas_cercanos([3403, 4537, 9089, 9746, 7259]) \n",
        "start = time.time()\n",
        "print(\"Los dos puntos más cercanos sin considerar que los puntos se puedan repetir (se elige el más cercano despues del punto en sí): \"+str(mas_cercanos([3403, 4537, 9089, 9746, 7259])))\n",
        "end = time.time()\n",
        "tiempo = end - start\n",
        "print(\"Tiempo de ejecución: \"+str(tiempo)+ \" s \")"
      ],
      "metadata": {
        "colab": {
          "base_uri": "https://localhost:8080/"
        },
        "id": "Bl-9PkEFEHl4",
        "outputId": "b0f9e5e3-8a54-4b30-e835-aacebfdcce0e"
      },
      "execution_count": null,
      "outputs": [
        {
          "output_type": "stream",
          "name": "stdout",
          "text": [
            "Los dos puntos más cercanos sin considerar que los puntos se puedan repetir (se elige el más cercano despues del punto en sí): [9089, 9746]\n",
            "Tiempo de ejecución: 0.0014121532440185547 s \n"
          ]
        }
      ]
    },
    {
      "cell_type": "markdown",
      "source": [
        "Tenemos un bucle for sin embargo tenemos uso de funciones que pueden contener código con más bucles, sobre todo aquellos métodos de búsquema como el \"index\", que ha de buscar un valor en una lista, por tanto tenemos un Orden de complejidad de 0(n^x / x>2), ya que filtramos una lista, hacemos una búsqueda, además de insertar listas dentro de listas. Con un N de datos grande la complejidad se dispara"
      ],
      "metadata": {
        "id": "6Qgjv5ToSq9m"
      }
    },
    {
      "cell_type": "code",
      "source": [
        "import time\n",
        "import random\n",
        "Lista_1D = [random.randrange(10000) for x in range(950)]\n",
        "# Practica Individual: Encontrar los dos puntos más cercanos\n",
        "# 1.- 1D a fuerza bruta\n",
        "def mas_cercanos(lst):\n",
        "  puntos = [lst[0],lst[1]]\n",
        "  if len(lst) < 3:\n",
        "    return puntos\n",
        "  menor = abs(lst[0]-lst[1])\n",
        "  posiciones = [0,1]\n",
        "  for i, value_i in enumerate(lst):\n",
        "    for j,value_j in enumerate(lst):\n",
        "      if i != j and abs(value_i-value_j) <= menor:\n",
        "        menor = abs(value_i-value_j)\n",
        "        posiciones[0] = i\n",
        "        posiciones[1] = j\n",
        "  puntos = [lst[posiciones[0]],lst[posiciones[1]]]\n",
        "  return puntos\n",
        "    \n",
        "# mas_cercanos([3403, 4537, 9089, 9746, 7259])\n",
        "start = time.time()\n",
        "print(\"Los dos puntos más cercanos considerando que un punto se repite: \"+str(mas_cercanos([3403, 4537, 9089, 9746, 7259])))\n",
        "end = time.time()\n",
        "tiempo = end - start\n",
        "print(\"Tiempo de ejecución: \"+str(tiempo)+ \" s \")"
      ],
      "metadata": {
        "colab": {
          "base_uri": "https://localhost:8080/"
        },
        "id": "Ezha81oI_tAV",
        "outputId": "c2bf28d9-0aa6-42be-dd83-da4c7315a312"
      },
      "execution_count": 2,
      "outputs": [
        {
          "output_type": "stream",
          "name": "stdout",
          "text": [
            "Los dos puntos más cercanos considerando que un punto se repite: [9746, 9089]\n",
            "Tiempo de ejecución: 0.00030422210693359375 s \n"
          ]
        }
      ]
    },
    {
      "cell_type": "markdown",
      "source": [
        "El orden de complejidad es O(n^2), por que tenemos dos bucles for anidados. Sale mucho mejor que el anterior con un N grande, por tanto deducimos que el anterior tiene un orden de complejidad mayor. Podemos reducir su complejidad si usamos la técnica de divide y vencerás"
      ],
      "metadata": {
        "id": "JzbMnic9CG1L"
      }
    },
    {
      "cell_type": "code",
      "source": [
        "# 2.- Divide y vencerás\n",
        "Lista_1D = [random.randrange(10000) for x in range(950)]\n",
        "Lista_1D_1 = [3403, 4537, 9089, 9746, 7259]\n",
        "def mas_cercanos(lista,menor,puntos):\n",
        "  if len(lista) < 3:\n",
        "    print(puntos)\n",
        "  else:\n",
        "    for i, value in enumerate(lista):\n",
        "      if i!= 0 and abs(lista[0]-lista[i]) <= menor:\n",
        "        menor = abs(lista[0]-lista[i])\n",
        "        puntos = [lista[0],lista[i]]\n",
        "    lista.pop(0)\n",
        "    mas_cercanos(lista,menor,puntos)\n",
        "\n",
        "start = time.time()\n",
        "print(\"Los dos puntos más cercanos considerando que un punto se repite: \"+str(mas_cercanos(Lista_1D_1,abs(Lista_1D_1[0]-Lista_1D_1[1]),[0,1])))\n",
        "end = time.time()\n",
        "tiempo = end - start\n",
        "print(\"Tiempo de ejecución: \"+str(tiempo)+ \" s \")"
      ],
      "metadata": {
        "colab": {
          "base_uri": "https://localhost:8080/"
        },
        "id": "0JHgupZHEhUx",
        "outputId": "1e1f3d3c-b348-4c95-f880-781fd1edf90b"
      },
      "execution_count": null,
      "outputs": [
        {
          "output_type": "stream",
          "name": "stdout",
          "text": [
            "[9089, 9746]\n",
            "Los dos puntos más cercanos considerando que un punto se repite: None\n",
            "Tiempo de ejecución: 0.00044226646423339844 s \n"
          ]
        }
      ]
    },
    {
      "cell_type": "markdown",
      "source": [
        "El tiempo de ejecución se reduce considerablemente en comparación con los anteriores algoritmos, pero esto se debe a que el N es pequeño. Ya sabemos que el uso de la recursividad para conjuntos de datos grandes dispara la complejidad del algoritmo"
      ],
      "metadata": {
        "id": "T8S8tIqSXyph"
      }
    },
    {
      "cell_type": "code",
      "source": [
        "# 3.- Extender algoritmo a 2D y 3D\n",
        "import numpy as np\n",
        "import time\n",
        "lista = [[1122, 6175],[135, 4076],[7296, 2741]]\n",
        "def mas_cercanos(lista,menor,puntos):\n",
        "  if len(lista) < 2:\n",
        "    print(puntos)\n",
        "  else:\n",
        "    for i, value in enumerate(lista):\n",
        "      if i!= 0 and np.linalg.norm(np.asarray(lista[0])-np.asarray(lista[i])) <= menor:\n",
        "        menor = np.linalg.norm(np.asarray(lista[0])-np.asarray(lista[i]))\n",
        "        puntos = [lista[0],lista[i]]\n",
        "    lista.pop(0)\n",
        "    mas_cercanos(lista,menor,puntos)\n",
        "\n",
        "start = time.time()\n",
        "print(mas_cercanos(lista,np.linalg.norm(np.asarray(lista[0])-np.asarray(lista[1])),[0,1]))\n",
        "end = time.time()\n",
        "tiempo = end - start\n",
        "print(\"Tiempo de ejecución: \"+str(tiempo)+ \" s \")"
      ],
      "metadata": {
        "id": "OpgT2yeqbivL",
        "colab": {
          "base_uri": "https://localhost:8080/"
        },
        "outputId": "51642920-2334-48f0-d8e5-2e1545cc7daf"
      },
      "execution_count": null,
      "outputs": [
        {
          "output_type": "stream",
          "name": "stdout",
          "text": [
            "[[1122, 6175], [135, 4076]]\n",
            "None\n",
            "Tiempo de ejecución: 0.0005152225494384766 s \n"
          ]
        }
      ]
    }
  ]
}