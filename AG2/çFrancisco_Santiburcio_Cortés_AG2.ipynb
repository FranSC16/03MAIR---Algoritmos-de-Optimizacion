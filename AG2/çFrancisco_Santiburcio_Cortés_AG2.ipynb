{
  "nbformat": 4,
  "nbformat_minor": 0,
  "metadata": {
    "colab": {
      "provenance": [],
      "authorship_tag": "ABX9TyOezczgPvBdH9KSKGbdqTF/",
      "include_colab_link": true
    },
    "kernelspec": {
      "name": "python3",
      "display_name": "Python 3"
    },
    "language_info": {
      "name": "python"
    }
  },
  "cells": [
    {
      "cell_type": "markdown",
      "metadata": {
        "id": "view-in-github",
        "colab_type": "text"
      },
      "source": [
        "<a href=\"https://colab.research.google.com/github/FranSC16/03MAIR---Algoritmos-de-Optimizacion/blob/main/AG2/%C3%A7Francisco_Santiburcio_Cort%C3%A9s_AG2.ipynb\" target=\"_parent\"><img src=\"https://colab.research.google.com/assets/colab-badge.svg\" alt=\"Open In Colab\"/></a>"
      ]
    },
    {
      "cell_type": "markdown",
      "source": [
        "\n",
        "#AG2 - Actividad Guiada 2\n",
        "Nombre: Francisco Santiburcio Cortés\n",
        "\n",
        "Link:   https://colab.research.google.com/drive/1bYEfPq5WuOXlpMV8ukn9StNXHEIsnbPc?usp=sharing\n",
        "\n",
        "Github: https://github.com/FranSC16/03MAIR---Algoritmos-de-Optimizacion/blob/main/AG2/Francisco_Santiburcio_Cort%C3%A9s_AG2.ipynb\n",
        "\n",
        "\n",
        "\n"
      ],
      "metadata": {
        "id": "kDU0oCMPaMom"
      }
    },
    {
      "cell_type": "code",
      "execution_count": 1,
      "metadata": {
        "id": "gcvvNwnDaJvH"
      },
      "outputs": [],
      "source": [
        "#Viaje por el rio - Programación dinámica\n",
        "################################################################################\n",
        "\n",
        "TARIFAS = [\n",
        "[0,5,4,3,float(\"inf\"),999,999],   #desde nodo 0\n",
        "[999,0,999,2,3,999,11],  #desde nodo 1\n",
        "[999,999, 0,1,999,4,10], #desde nodo 2\n",
        "[999,999,999, 0,5,6,9],\n",
        "[999,999, 999,999,0,999,4],\n",
        "[999,999, 999,999,999,0,3],\n",
        "[999,999,999,999,999,999,0]\n",
        "]"
      ]
    },
    {
      "cell_type": "code",
      "source": [
        "#Calculo de la matriz de PRECIOS y RUTAS\n",
        "#  PRECIOS - contiene la matriz del mejor precio para ir de un nodo a otro\n",
        "#  RUTAS   - contiene los nodos intermedios para ir de un nodo a otro\n",
        "################################################################  \n",
        "def Precios(TARIFAS):\n",
        "################################################################ \n",
        "  #Total de Nodos\n",
        "  N = len(TARIFAS[0])\n",
        "  \n",
        "  #Inicialización de la tabla de precios\n",
        "  PRECIOS = [ [9999]*N for i in [9999]*N]  #n x n \n",
        "  RUTA = [ [\"\"]*N for i in [\"\"]*N]\n",
        "  \n",
        "  #Se recorren todos los nodos con dos bucles(origen - destino)\n",
        "  #  para ir construyendo la matriz de PRECIOS\n",
        "  for i in range(N-1):\n",
        "    for j in range(i+1, N):\n",
        "      MIN = TARIFAS[i][j]\n",
        "      RUTA[i][j] = i\n",
        "      \n",
        "      for k in range(i, j):\n",
        "        if PRECIOS[i][k] + TARIFAS[k][j] < MIN:\n",
        "            MIN = min(MIN, PRECIOS[i][k] + TARIFAS[k][j] )\n",
        "            RUTA[i][j] = k\n",
        "        PRECIOS[i][j] = MIN\n",
        "        \n",
        "  return PRECIOS,RUTA\n",
        "\n",
        "PRECIOS,RUTA = Precios(TARIFAS)"
      ],
      "metadata": {
        "id": "7RuNbG2sbn7L"
      },
      "execution_count": 10,
      "outputs": []
    },
    {
      "cell_type": "code",
      "source": [
        "#Calculo de la ruta usando la matriz RUTA\n",
        "def calcular_ruta(RUTA, desde, hasta):\n",
        "  if desde == RUTA[desde][hasta]:\n",
        "  #if desde == hasta:\n",
        "    #print(\"Ir a :\" + str(desde))\n",
        "    return desde \n",
        "  else:\n",
        "    return str(calcular_ruta(RUTA, desde, RUTA[desde][hasta])) +  ',' + str(RUTA[desde][hasta]) \n",
        "\n",
        "print(\"\\nLa ruta es:\")  \n",
        "calcular_ruta(RUTA, 3,6) "
      ],
      "metadata": {
        "id": "XufhmakIdqIE",
        "colab": {
          "base_uri": "https://localhost:8080/"
        },
        "outputId": "6de47b55-ff93-47d2-a43b-1cabb5bf89ed"
      },
      "execution_count": 11,
      "outputs": [
        {
          "output_type": "stream",
          "name": "stdout",
          "text": [
            "\n",
            "La ruta es:\n"
          ]
        },
        {
          "output_type": "execute_result",
          "data": {
            "text/plain": [
              "3"
            ]
          },
          "metadata": {},
          "execution_count": 11
        }
      ]
    },
    {
      "cell_type": "code",
      "source": [
        "#Asignacion de tareas - Ramificación y Poda\n",
        "################################################################################\n",
        "#    T A R E A \n",
        "#   A\n",
        "#   G\n",
        "#   E\n",
        "#   N\n",
        "#   T\n",
        "#   E\n",
        "\n",
        "COSTES=[[11,12,18,40],\n",
        "        [14,15,13,22],\n",
        "        [11,17,19,23],\n",
        "        [17,14,20,28]]\n",
        "        "
      ],
      "metadata": {
        "id": "QDfSBMRZmPLT"
      },
      "execution_count": null,
      "outputs": []
    },
    {
      "cell_type": "code",
      "source": [
        "#Calculo del valor de una solucion parcial\n",
        "def valor(S,COSTES):\n",
        "  VALOR = 0\n",
        "  for i in range(len(S)):\n",
        "    VALOR += COSTES[S[i]][i] \n",
        "  return VALOR\n",
        "\n",
        "\n",
        "\n",
        "valor((3,2,  ),COSTES)"
      ],
      "metadata": {
        "id": "D35PmB56mVQT"
      },
      "execution_count": null,
      "outputs": []
    },
    {
      "cell_type": "code",
      "source": [
        "#Coste inferior para soluciones parciales\n",
        "#  (1,3,) Se asigna la tarea 1 al agente 0 y la tarea 3 al agente 1\n",
        "\n",
        "def CI(S,COSTES):\n",
        "  VALOR = 0\n",
        "  #Valores establecidos\n",
        "  for i in range(len(S)):\n",
        "    VALOR += COSTES[i][S[i]]\n",
        "\n",
        "  #Estimacion\n",
        "  for i in range( len(S), len(COSTES)   ):\n",
        "    VALOR += min( [ COSTES[j][i] for j in range(len(S), len(COSTES))  ])\n",
        "  return VALOR\n",
        "\n",
        "def CS(S,COSTES):\n",
        "  VALOR = 0\n",
        "  #Valores establecidos\n",
        "  for i in range(len(S)):\n",
        "    VALOR += COSTES[i][S[i]]\n",
        "\n",
        "  #Estimacion\n",
        "  for i in range( len(S), len(COSTES)   ):\n",
        "    VALOR += max( [ COSTES[j][i] for j in range(len(S), len(COSTES))  ])\n",
        "  return VALOR\n",
        "\n",
        "CI((0,1),COSTES)"
      ],
      "metadata": {
        "id": "GGkrjN7BmxUe"
      },
      "execution_count": null,
      "outputs": []
    },
    {
      "cell_type": "code",
      "source": [
        "#Genera tantos hijos como como posibilidades haya para la siguiente elemento de la tupla\n",
        "#(0,) -> (0,1), (0,2), (0,3)\n",
        "def crear_hijos(NODO, N):\n",
        "  HIJOS = []\n",
        "  for i in range(N ):\n",
        "    if i not in NODO:\n",
        "      HIJOS.append({'s':NODO +(i,)    })\n",
        "  return HIJOS"
      ],
      "metadata": {
        "id": "XAfRDulOm-vo"
      },
      "execution_count": null,
      "outputs": []
    },
    {
      "cell_type": "code",
      "source": [
        "crear_hijos((0,) , 4)"
      ],
      "metadata": {
        "id": "FaZhrn9em_2d"
      },
      "execution_count": null,
      "outputs": []
    },
    {
      "cell_type": "code",
      "source": [
        "def ramificacion_y_poda(COSTES):\n",
        "#Construccion iterativa de soluciones(arbol). En cada etapa asignamos un agente(ramas).\n",
        "#Nodos del grafo  { s:(1,2),CI:3,CS:5  }\n",
        "  #print(COSTES)\n",
        "  DIMENSION = len(COSTES)  \n",
        "  MEJOR_SOLUCION=tuple( i for i in range(len(COSTES)) )\n",
        "  CotaSup = valor(MEJOR_SOLUCION,COSTES)\n",
        "  #print(\"Cota Superior:\", CotaSup)\n",
        "\n",
        "  NODOS=[]\n",
        "  NODOS.append({'s':(), 'ci':CI((),COSTES)    } )\n",
        "\n",
        "  iteracion = 0\n",
        "\n",
        "  while( len(NODOS) > 0):\n",
        "    iteracion +=1\n",
        "\n",
        "    nodo_prometedor = [ min(NODOS, key=lambda x:x['ci']) ][0]['s']\n",
        "    #print(\"Nodo prometedor:\", nodo_prometedor)\n",
        "\n",
        "    #Ramificacion\n",
        "    #Se generan los hijos\n",
        "    HIJOS =[ {'s':x['s'], 'ci':CI(x['s'], COSTES)   } for x in crear_hijos(nodo_prometedor, DIMENSION) ]\n",
        "\n",
        "    #Revisamos la cota superior y nos quedamos con la mejor solucion si llegamos a una solucion final\n",
        "    NODO_FINAL = [x for x in HIJOS if len(x['s']) == DIMENSION  ]\n",
        "    if len(NODO_FINAL ) >0: \n",
        "      #print(\"\\n********Soluciones:\",  [x for x in HIJOS if len(x['s']) == DIMENSION  ] )\n",
        "      if NODO_FINAL[0]['ci'] < CotaSup:\n",
        "        CotaSup = NODO_FINAL[0]['ci']\n",
        "        MEJOR_SOLUCION = NODO_FINAL\n",
        " \n",
        "    #Poda\n",
        "    HIJOS = [x for x in HIJOS if x['ci'] < CotaSup   ]\n",
        "\n",
        "    #Añadimos los hijos \n",
        "    NODOS.extend(HIJOS) \n",
        "\n",
        "    #Eliminamos el nodo ramificado\n",
        "    NODOS =  [  x for x in NODOS if x['s'] != nodo_prometedor    ]\n",
        "   \n",
        "  print(\"La solucion final es:\" ,MEJOR_SOLUCION , \" en \" , iteracion , \" iteraciones\" , \" para dimension: \" ,DIMENSION  )\n",
        "      \n",
        "\n",
        "\n",
        "ramificacion_y_poda(COSTES)"
      ],
      "metadata": {
        "id": "HCvRNp0NnSNh"
      },
      "execution_count": null,
      "outputs": []
    },
    {
      "cell_type": "markdown",
      "source": [
        "##Descenso del gradiente"
      ],
      "metadata": {
        "id": "xGZYrsg8o0js"
      }
    },
    {
      "cell_type": "code",
      "source": [
        "import math                      #Funciones matematicas\n",
        "import matplotlib.pyplot as plt  #Generacion de gráficos (otra opcion seaborn)\n",
        "import numpy as np               #Tratamiento matriz N-dimensionales y otras (fundamental!) \n",
        "#import scipy as sc\n",
        "\n",
        "import random"
      ],
      "metadata": {
        "id": "xK8hlYEno2nk"
      },
      "execution_count": null,
      "outputs": []
    },
    {
      "cell_type": "code",
      "source": [
        "#Definimos la funcion\n",
        "#Paraboloide\n",
        "f  = lambda X:      X[0]**2 + X[1]**2    #Funcion\n",
        "df = lambda X: [2*X[0] , 2*X[1]]         #Gradiente\n",
        " \n",
        "df([1,2])"
      ],
      "metadata": {
        "id": "G2uGoKSdo4fq"
      },
      "execution_count": null,
      "outputs": []
    },
    {
      "cell_type": "code",
      "source": [
        "from sympy import symbols\n",
        "from sympy.plotting import plot\n",
        "from sympy.plotting import plot3d\n",
        "x,y = symbols('x y')\n",
        "plot3d(x**2 + y**2,\n",
        "       (x,-5,5),(y,-5,5),\n",
        "       title='x**2 + y**2',\n",
        "       size=(10,10))"
      ],
      "metadata": {
        "id": "Kgb7r_tWo5qy"
      },
      "execution_count": null,
      "outputs": []
    },
    {
      "cell_type": "code",
      "source": [
        "#Prepara los datos para dibujar mapa de niveles de Z\n",
        "resolucion = 100 \n",
        "rango=5.5\n",
        " \n",
        "X=np.linspace(-rango,rango,resolucion) \n",
        "Y=np.linspace(-rango,rango,resolucion)\n",
        "Z=np.zeros((resolucion,resolucion))\n",
        "for ix,x in enumerate(X):\n",
        "  for iy,y in enumerate(Y):\n",
        "    Z[iy,ix] = f([x,y])\n",
        "\n",
        "#Pinta el mapa de niveles de Z\n",
        "plt.contourf(X,Y,Z,resolucion)\n",
        "plt.colorbar() \n",
        "\n",
        "#Generamos un punto aleatorio inicial y pintamos de blanco\n",
        "P=[random.uniform(-5,5  ),random.uniform(-5,5 ) ]\n",
        "plt.plot(P[0],P[1],\"o\",c=\"white\")\n",
        "\n",
        "#Tasa de aprendizaje. Fija. Sería más efectivo reducirlo a medida que nos acercamos.\n",
        "TA=.1 \n",
        "\n",
        "#Iteraciones:50\n",
        "for _ in range(50):\n",
        "  grad = df(P)\n",
        "  #print(P,grad)\n",
        "  P[0],P[1] = P[0] - TA*grad[0] , P[1] - TA*grad[1]\n",
        "  plt.plot(P[0],P[1],\"o\",c=\"red\")\n",
        "\n",
        "#Dibujamos el punto final y pintamos de verde\n",
        "plt.plot(P[0],P[1],\"o\",c=\"green\")\n",
        "plt.show()\n",
        "print(\"Solucion:\" , P , f(P))\n"
      ],
      "metadata": {
        "id": "lWGzBncno7IP"
      },
      "execution_count": null,
      "outputs": []
    }
  ]
}