{
  "nbformat": 4,
  "nbformat_minor": 0,
  "metadata": {
    "colab": {
      "provenance": [],
      "authorship_tag": "ABX9TyOGlLEWAxK0Xmd1gS/9u/K5",
      "include_colab_link": true
    },
    "kernelspec": {
      "name": "python3",
      "display_name": "Python 3"
    },
    "language_info": {
      "name": "python"
    }
  },
  "cells": [
    {
      "cell_type": "markdown",
      "metadata": {
        "id": "view-in-github",
        "colab_type": "text"
      },
      "source": [
        "<a href=\"https://colab.research.google.com/github/FranSC16/03MAIR---Algoritmos-de-Optimizacion/blob/main/AG2/Francisco_Santiburcio_Cort%C3%A9s_AG2.ipynb\" target=\"_parent\"><img src=\"https://colab.research.google.com/assets/colab-badge.svg\" alt=\"Open In Colab\"/></a>"
      ]
    },
    {
      "cell_type": "markdown",
      "source": [
        "\n",
        "#AG2 - Actividad Guiada 2\n",
        "Nombre: Francisco Santiburcio Cortés\n",
        "\n",
        "Link:   https://colab.research.google.com/drive/1bYEfPq5WuOXlpMV8ukn9StNXHEIsnbPc?usp=sharing\n",
        "\n",
        "\n",
        "Github: https://github.com/FranSC16/03MAIR---Algoritmos-de-Optimizacion/blob/main/AG2/Francisco_Santiburcio_Cort%C3%A9s_AG2.ipynb\n",
        "\n",
        "\n",
        "\n"
      ],
      "metadata": {
        "id": "kDU0oCMPaMom"
      }
    },
    {
      "cell_type": "code",
      "execution_count": 1,
      "metadata": {
        "id": "gcvvNwnDaJvH"
      },
      "outputs": [],
      "source": [
        "#Viaje por el rio - Programación dinámica\n",
        "################################################################################\n",
        "\n",
        "TARIFAS = [\n",
        "[0,5,4,3,float(\"inf\"),999,999],   #desde nodo 0\n",
        "[999,0,999,2,3,999,11],  #desde nodo 1\n",
        "[999,999, 0,1,999,4,10], #desde nodo 2\n",
        "[999,999,999, 0,5,6,9],\n",
        "[999,999, 999,999,0,999,4],\n",
        "[999,999, 999,999,999,0,3],\n",
        "[999,999,999,999,999,999,0]\n",
        "]"
      ]
    },
    {
      "cell_type": "code",
      "source": [
        "#Calculo de la matriz de PRECIOS y RUTAS\n",
        "#  PRECIOS - contiene la matriz del mejor precio para ir de un nodo a otro\n",
        "#  RUTAS   - contiene los nodos intermedios para ir de un nodo a otro\n",
        "################################################################  \n",
        "def Precios(TARIFAS):\n",
        "################################################################ \n",
        "  #Total de Nodos\n",
        "  N = len(TARIFAS[0])\n",
        "  \n",
        "  #Inicialización de la tabla de precios\n",
        "  PRECIOS = [ [9999]*N for i in [9999]*N]  #n x n \n",
        "  RUTA = [ [\"\"]*N for i in [\"\"]*N]\n",
        "  \n",
        "  #Se recorren todos los nodos con dos bucles(origen - destino)\n",
        "  #  para ir construyendo la matriz de PRECIOS\n",
        "  for i in range(N-1):\n",
        "    for j in range(i+1, N):\n",
        "      MIN = TARIFAS[i][j]\n",
        "      RUTA[i][j] = i\n",
        "      \n",
        "      for k in range(i, j):\n",
        "        if PRECIOS[i][k] + TARIFAS[k][j] < MIN:\n",
        "            MIN = min(MIN, PRECIOS[i][k] + TARIFAS[k][j] )\n",
        "            RUTA[i][j] = k\n",
        "        PRECIOS[i][j] = MIN\n",
        "        \n",
        "  return PRECIOS,RUTA\n",
        "\n",
        "PRECIOS,RUTA = Precios(TARIFAS)"
      ],
      "metadata": {
        "id": "7RuNbG2sbn7L"
      },
      "execution_count": 10,
      "outputs": []
    },
    {
      "cell_type": "code",
      "source": [
        "#Calculo de la ruta usando la matriz RUTA\n",
        "def calcular_ruta(RUTA, desde, hasta):\n",
        "  if desde == RUTA[desde][hasta]:\n",
        "  #if desde == hasta:\n",
        "    #print(\"Ir a :\" + str(desde))\n",
        "    return desde \n",
        "  else:\n",
        "    return str(calcular_ruta(RUTA, desde, RUTA[desde][hasta])) +  ',' + str(RUTA[desde][hasta]) \n",
        "\n",
        "print(\"\\nLa ruta es:\")  \n",
        "calcular_ruta(RUTA, 3,6) "
      ],
      "metadata": {
        "id": "XufhmakIdqIE",
        "colab": {
          "base_uri": "https://localhost:8080/"
        },
        "outputId": "6de47b55-ff93-47d2-a43b-1cabb5bf89ed"
      },
      "execution_count": 11,
      "outputs": [
        {
          "output_type": "stream",
          "name": "stdout",
          "text": [
            "\n",
            "La ruta es:\n"
          ]
        },
        {
          "output_type": "execute_result",
          "data": {
            "text/plain": [
              "3"
            ]
          },
          "metadata": {},
          "execution_count": 11
        }
      ]
    },
    {
      "cell_type": "code",
      "source": [
        "#Asignacion de tareas - Ramificación y Poda\n",
        "################################################################################\n",
        "#    T A R E A \n",
        "#   A\n",
        "#   G\n",
        "#   E\n",
        "#   N\n",
        "#   T\n",
        "#   E\n",
        "\n",
        "COSTES=[[11,12,18,40],\n",
        "        [14,15,13,22],\n",
        "        [11,17,19,23],\n",
        "        [17,14,20,28]]\n",
        "        "
      ],
      "metadata": {
        "id": "QDfSBMRZmPLT"
      },
      "execution_count": 13,
      "outputs": []
    },
    {
      "cell_type": "code",
      "source": [
        "#Calculo del valor de una solucion parcial\n",
        "def valor(S,COSTES):\n",
        "  VALOR = 0\n",
        "  for i in range(len(S)):\n",
        "    VALOR += COSTES[S[i]][i] \n",
        "    # print(\"Agente: \",S[i],\" Tarea: \",i,\" Costes: \",COSTES[S[i]][i],\" Valor_acumulado: \",VALOR)\n",
        "  return VALOR\n",
        "\n",
        "\n",
        "\n",
        "valor((3,2,  ),COSTES)"
      ],
      "metadata": {
        "colab": {
          "base_uri": "https://localhost:8080/"
        },
        "id": "D35PmB56mVQT",
        "outputId": "3af064a6-83eb-4525-aa6e-190b1693f329"
      },
      "execution_count": 45,
      "outputs": [
        {
          "output_type": "execute_result",
          "data": {
            "text/plain": [
              "67"
            ]
          },
          "metadata": {},
          "execution_count": 45
        }
      ]
    },
    {
      "cell_type": "code",
      "source": [
        "#Coste inferior para soluciones parciales\n",
        "#  (1,3,) Se asigna la tarea 1 al agente 0 y la tarea 3 al agente 1\n",
        "\n",
        "def CI(S,COSTES):\n",
        "  VALOR = 0\n",
        "  #Valores establecidos\n",
        "  for i in range(len(S)):\n",
        "    VALOR += COSTES[i][S[i]]\n",
        "\n",
        "  #Estimacion\n",
        "  for i in range( len(S), len(COSTES)   ):\n",
        "    VALOR += min( [ COSTES[j][i] for j in range(len(S), len(COSTES))  ])\n",
        "  return VALOR\n",
        "\n",
        "def CS(S,COSTES):\n",
        "  VALOR = 0\n",
        "  #Valores establecidos\n",
        "  for i in range(len(S)):\n",
        "    VALOR += COSTES[i][S[i]]\n",
        "\n",
        "  #Estimacion\n",
        "  for i in range( len(S), len(COSTES)   ):\n",
        "    VALOR += max( [ COSTES[j][i] for j in range(len(S), len(COSTES))  ])\n",
        "  return VALOR\n",
        "\n",
        "CI((0,1),COSTES)"
      ],
      "metadata": {
        "colab": {
          "base_uri": "https://localhost:8080/"
        },
        "id": "GGkrjN7BmxUe",
        "outputId": "e3928267-7513-4ccd-bf44-d58d4afadd63"
      },
      "execution_count": 15,
      "outputs": [
        {
          "output_type": "execute_result",
          "data": {
            "text/plain": [
              "68"
            ]
          },
          "metadata": {},
          "execution_count": 15
        }
      ]
    },
    {
      "cell_type": "code",
      "source": [
        "#Genera tantos hijos como como posibilidades haya para la siguiente elemento de la tupla\n",
        "#(0,) -> (0,1), (0,2), (0,3)\n",
        "def crear_hijos(NODO, N):\n",
        "  HIJOS = []\n",
        "  for i in range(N ):\n",
        "    if i not in NODO:\n",
        "      HIJOS.append({'s':NODO +(i,)    })\n",
        "  return HIJOS"
      ],
      "metadata": {
        "id": "XAfRDulOm-vo"
      },
      "execution_count": 16,
      "outputs": []
    },
    {
      "cell_type": "code",
      "source": [
        "crear_hijos((0,) , 4)"
      ],
      "metadata": {
        "colab": {
          "base_uri": "https://localhost:8080/"
        },
        "id": "FaZhrn9em_2d",
        "outputId": "ab574ef0-eb4c-4157-c4c3-0a14d08d26df"
      },
      "execution_count": 17,
      "outputs": [
        {
          "output_type": "execute_result",
          "data": {
            "text/plain": [
              "[{'s': (0, 1)}, {'s': (0, 2)}, {'s': (0, 3)}]"
            ]
          },
          "metadata": {},
          "execution_count": 17
        }
      ]
    },
    {
      "cell_type": "code",
      "source": [
        "def ramificacion_y_poda(COSTES):\n",
        "#Construccion iterativa de soluciones(arbol). En cada etapa asignamos un agente(ramas).\n",
        "#Nodos del grafo  { s:(1,2),CI:3,CS:5  }\n",
        "  #print(COSTES)\n",
        "  DIMENSION = len(COSTES)  \n",
        "  MEJOR_SOLUCION=tuple( i for i in range(len(COSTES)) )\n",
        "  CotaSup = valor(MEJOR_SOLUCION,COSTES)\n",
        "  #print(\"Cota Superior:\", CotaSup)\n",
        "\n",
        "  NODOS=[]\n",
        "  NODOS.append({'s':(), 'ci':CI((),COSTES)    } )\n",
        "\n",
        "  iteracion = 0\n",
        "\n",
        "  while( len(NODOS) > 0):\n",
        "    iteracion +=1\n",
        "\n",
        "    nodo_prometedor = [ min(NODOS, key=lambda x:x['ci']) ][0]['s']\n",
        "    #print(\"Nodo prometedor:\", nodo_prometedor)\n",
        "\n",
        "    #Ramificacion\n",
        "    #Se generan los hijos\n",
        "    HIJOS =[ {'s':x['s'], 'ci':CI(x['s'], COSTES)   } for x in crear_hijos(nodo_prometedor, DIMENSION) ]\n",
        "\n",
        "    #Revisamos la cota superior y nos quedamos con la mejor solucion si llegamos a una solucion final\n",
        "    NODO_FINAL = [x for x in HIJOS if len(x['s']) == DIMENSION  ]\n",
        "    if len(NODO_FINAL ) >0: \n",
        "      #print(\"\\n********Soluciones:\",  [x for x in HIJOS if len(x['s']) == DIMENSION  ] )\n",
        "      if NODO_FINAL[0]['ci'] < CotaSup:\n",
        "        CotaSup = NODO_FINAL[0]['ci']\n",
        "        MEJOR_SOLUCION = NODO_FINAL\n",
        " \n",
        "    #Poda\n",
        "    HIJOS = [x for x in HIJOS if x['ci'] < CotaSup   ]\n",
        "\n",
        "    #Añadimos los hijos \n",
        "    NODOS.extend(HIJOS) \n",
        "\n",
        "    #Eliminamos el nodo ramificado\n",
        "    NODOS =  [  x for x in NODOS if x['s'] != nodo_prometedor    ]\n",
        "   \n",
        "  print(\"La solucion final es:\" ,MEJOR_SOLUCION , \" en \" , iteracion , \" iteraciones\" , \" para dimension: \" ,DIMENSION  )\n",
        "      \n",
        "\n",
        "\n",
        "ramificacion_y_poda(COSTES)"
      ],
      "metadata": {
        "colab": {
          "base_uri": "https://localhost:8080/",
          "height": 321
        },
        "id": "HCvRNp0NnSNh",
        "outputId": "e44dacc9-42f7-4577-bbce-9d6e2760c456"
      },
      "execution_count": 2,
      "outputs": [
        {
          "output_type": "error",
          "ename": "NameError",
          "evalue": "ignored",
          "traceback": [
            "\u001b[0;31m---------------------------------------------------------------------------\u001b[0m",
            "\u001b[0;31mNameError\u001b[0m                                 Traceback (most recent call last)",
            "\u001b[0;32m<ipython-input-2-dde2c8f71a4e>\u001b[0m in \u001b[0;36m<module>\u001b[0;34m\u001b[0m\n\u001b[1;32m     44\u001b[0m \u001b[0;34m\u001b[0m\u001b[0m\n\u001b[1;32m     45\u001b[0m \u001b[0;34m\u001b[0m\u001b[0m\n\u001b[0;32m---> 46\u001b[0;31m \u001b[0mramificacion_y_poda\u001b[0m\u001b[0;34m(\u001b[0m\u001b[0mCOSTES\u001b[0m\u001b[0;34m)\u001b[0m\u001b[0;34m\u001b[0m\u001b[0;34m\u001b[0m\u001b[0m\n\u001b[0m",
            "\u001b[0;32m<ipython-input-2-dde2c8f71a4e>\u001b[0m in \u001b[0;36mramificacion_y_poda\u001b[0;34m(COSTES)\u001b[0m\n\u001b[1;32m      5\u001b[0m   \u001b[0mDIMENSION\u001b[0m \u001b[0;34m=\u001b[0m \u001b[0mlen\u001b[0m\u001b[0;34m(\u001b[0m\u001b[0mCOSTES\u001b[0m\u001b[0;34m)\u001b[0m\u001b[0;34m\u001b[0m\u001b[0;34m\u001b[0m\u001b[0m\n\u001b[1;32m      6\u001b[0m   \u001b[0mMEJOR_SOLUCION\u001b[0m\u001b[0;34m=\u001b[0m\u001b[0mtuple\u001b[0m\u001b[0;34m(\u001b[0m \u001b[0mi\u001b[0m \u001b[0;32mfor\u001b[0m \u001b[0mi\u001b[0m \u001b[0;32min\u001b[0m \u001b[0mrange\u001b[0m\u001b[0;34m(\u001b[0m\u001b[0mlen\u001b[0m\u001b[0;34m(\u001b[0m\u001b[0mCOSTES\u001b[0m\u001b[0;34m)\u001b[0m\u001b[0;34m)\u001b[0m \u001b[0;34m)\u001b[0m\u001b[0;34m\u001b[0m\u001b[0;34m\u001b[0m\u001b[0m\n\u001b[0;32m----> 7\u001b[0;31m   \u001b[0mCotaSup\u001b[0m \u001b[0;34m=\u001b[0m \u001b[0mvalor\u001b[0m\u001b[0;34m(\u001b[0m\u001b[0mMEJOR_SOLUCION\u001b[0m\u001b[0;34m,\u001b[0m\u001b[0mCOSTES\u001b[0m\u001b[0;34m)\u001b[0m\u001b[0;34m\u001b[0m\u001b[0;34m\u001b[0m\u001b[0m\n\u001b[0m\u001b[1;32m      8\u001b[0m   \u001b[0;31m#print(\"Cota Superior:\", CotaSup)\u001b[0m\u001b[0;34m\u001b[0m\u001b[0;34m\u001b[0m\u001b[0;34m\u001b[0m\u001b[0m\n\u001b[1;32m      9\u001b[0m \u001b[0;34m\u001b[0m\u001b[0m\n",
            "\u001b[0;31mNameError\u001b[0m: name 'valor' is not defined"
          ]
        }
      ]
    },
    {
      "cell_type": "markdown",
      "source": [
        "# Apartado extra\n"
      ],
      "metadata": {
        "id": "PFhxKFyPtM74"
      }
    },
    {
      "cell_type": "code",
      "source": [
        "import random\n",
        "import time\n",
        "import itertools\n",
        "COSTES=[[11,12,18,40],\n",
        "        [14,15,13,22],\n",
        "        [11,17,19,23],\n",
        "        [17,14,20,28]]\n",
        "\n",
        "def fuerza_bruta(COSTES):\n",
        "  mejor_valor = 0\n",
        "  mejor_solucion = ()\n",
        "  valores,soluciones = [],[]\n",
        "  # itertools nos permite hacer todas las combinaciones posibles de agentes\n",
        "  # Se asemeja a una tabla de verdad lógica\n",
        "  for s in list(itertools.permutations(range(len(COSTES)))): \n",
        "    valor_aux = valor(s,COSTES)\n",
        "    if valor_aux >= mejor_valor:\n",
        "      mejor_valor = valor_aux\n",
        "      mejor_solucion = s\n",
        "      valores.append(mejor_valor)\n",
        "      soluciones.append(mejor_solucion)\n",
        "  print(\"valores \",valores,\" Soluciones \",soluciones)\n",
        "\n",
        "  print(\"La solución óptima es: \",mejor_solucion,\" con valor\",mejor_valor)\n",
        "\n",
        "\n",
        "fuerza_bruta(COSTES)"
      ],
      "metadata": {
        "colab": {
          "base_uri": "https://localhost:8080/"
        },
        "id": "Hnhs7MewtOlk",
        "outputId": "568999cf-83bf-45d4-9882-6f36091efae5"
      },
      "execution_count": 42,
      "outputs": [
        {
          "output_type": "stream",
          "name": "stdout",
          "text": [
            "Agente:  0  Tarea:  0  Costes:  11  Valor_acumulado:  11\n",
            "Agente:  1  Tarea:  1  Costes:  15  Valor_acumulado:  26\n",
            "Agente:  2  Tarea:  2  Costes:  19  Valor_acumulado:  45\n",
            "Agente:  3  Tarea:  3  Costes:  28  Valor_acumulado:  73\n",
            "Agente:  0  Tarea:  0  Costes:  11  Valor_acumulado:  11\n",
            "Agente:  1  Tarea:  1  Costes:  15  Valor_acumulado:  26\n",
            "Agente:  3  Tarea:  2  Costes:  20  Valor_acumulado:  46\n",
            "Agente:  2  Tarea:  3  Costes:  23  Valor_acumulado:  69\n",
            "Agente:  0  Tarea:  0  Costes:  11  Valor_acumulado:  11\n",
            "Agente:  2  Tarea:  1  Costes:  17  Valor_acumulado:  28\n",
            "Agente:  1  Tarea:  2  Costes:  13  Valor_acumulado:  41\n",
            "Agente:  3  Tarea:  3  Costes:  28  Valor_acumulado:  69\n",
            "Agente:  0  Tarea:  0  Costes:  11  Valor_acumulado:  11\n",
            "Agente:  2  Tarea:  1  Costes:  17  Valor_acumulado:  28\n",
            "Agente:  3  Tarea:  2  Costes:  20  Valor_acumulado:  48\n",
            "Agente:  1  Tarea:  3  Costes:  22  Valor_acumulado:  70\n",
            "Agente:  0  Tarea:  0  Costes:  11  Valor_acumulado:  11\n",
            "Agente:  3  Tarea:  1  Costes:  14  Valor_acumulado:  25\n",
            "Agente:  1  Tarea:  2  Costes:  13  Valor_acumulado:  38\n",
            "Agente:  2  Tarea:  3  Costes:  23  Valor_acumulado:  61\n",
            "Agente:  0  Tarea:  0  Costes:  11  Valor_acumulado:  11\n",
            "Agente:  3  Tarea:  1  Costes:  14  Valor_acumulado:  25\n",
            "Agente:  2  Tarea:  2  Costes:  19  Valor_acumulado:  44\n",
            "Agente:  1  Tarea:  3  Costes:  22  Valor_acumulado:  66\n",
            "Agente:  1  Tarea:  0  Costes:  14  Valor_acumulado:  14\n",
            "Agente:  0  Tarea:  1  Costes:  12  Valor_acumulado:  26\n",
            "Agente:  2  Tarea:  2  Costes:  19  Valor_acumulado:  45\n",
            "Agente:  3  Tarea:  3  Costes:  28  Valor_acumulado:  73\n",
            "Agente:  1  Tarea:  0  Costes:  14  Valor_acumulado:  14\n",
            "Agente:  0  Tarea:  1  Costes:  12  Valor_acumulado:  26\n",
            "Agente:  3  Tarea:  2  Costes:  20  Valor_acumulado:  46\n",
            "Agente:  2  Tarea:  3  Costes:  23  Valor_acumulado:  69\n",
            "Agente:  1  Tarea:  0  Costes:  14  Valor_acumulado:  14\n",
            "Agente:  2  Tarea:  1  Costes:  17  Valor_acumulado:  31\n",
            "Agente:  0  Tarea:  2  Costes:  18  Valor_acumulado:  49\n",
            "Agente:  3  Tarea:  3  Costes:  28  Valor_acumulado:  77\n",
            "Agente:  1  Tarea:  0  Costes:  14  Valor_acumulado:  14\n",
            "Agente:  2  Tarea:  1  Costes:  17  Valor_acumulado:  31\n",
            "Agente:  3  Tarea:  2  Costes:  20  Valor_acumulado:  51\n",
            "Agente:  0  Tarea:  3  Costes:  40  Valor_acumulado:  91\n",
            "Agente:  1  Tarea:  0  Costes:  14  Valor_acumulado:  14\n",
            "Agente:  3  Tarea:  1  Costes:  14  Valor_acumulado:  28\n",
            "Agente:  0  Tarea:  2  Costes:  18  Valor_acumulado:  46\n",
            "Agente:  2  Tarea:  3  Costes:  23  Valor_acumulado:  69\n",
            "Agente:  1  Tarea:  0  Costes:  14  Valor_acumulado:  14\n",
            "Agente:  3  Tarea:  1  Costes:  14  Valor_acumulado:  28\n",
            "Agente:  2  Tarea:  2  Costes:  19  Valor_acumulado:  47\n",
            "Agente:  0  Tarea:  3  Costes:  40  Valor_acumulado:  87\n",
            "Agente:  2  Tarea:  0  Costes:  11  Valor_acumulado:  11\n",
            "Agente:  0  Tarea:  1  Costes:  12  Valor_acumulado:  23\n",
            "Agente:  1  Tarea:  2  Costes:  13  Valor_acumulado:  36\n",
            "Agente:  3  Tarea:  3  Costes:  28  Valor_acumulado:  64\n",
            "Agente:  2  Tarea:  0  Costes:  11  Valor_acumulado:  11\n",
            "Agente:  0  Tarea:  1  Costes:  12  Valor_acumulado:  23\n",
            "Agente:  3  Tarea:  2  Costes:  20  Valor_acumulado:  43\n",
            "Agente:  1  Tarea:  3  Costes:  22  Valor_acumulado:  65\n",
            "Agente:  2  Tarea:  0  Costes:  11  Valor_acumulado:  11\n",
            "Agente:  1  Tarea:  1  Costes:  15  Valor_acumulado:  26\n",
            "Agente:  0  Tarea:  2  Costes:  18  Valor_acumulado:  44\n",
            "Agente:  3  Tarea:  3  Costes:  28  Valor_acumulado:  72\n",
            "Agente:  2  Tarea:  0  Costes:  11  Valor_acumulado:  11\n",
            "Agente:  1  Tarea:  1  Costes:  15  Valor_acumulado:  26\n",
            "Agente:  3  Tarea:  2  Costes:  20  Valor_acumulado:  46\n",
            "Agente:  0  Tarea:  3  Costes:  40  Valor_acumulado:  86\n",
            "Agente:  2  Tarea:  0  Costes:  11  Valor_acumulado:  11\n",
            "Agente:  3  Tarea:  1  Costes:  14  Valor_acumulado:  25\n",
            "Agente:  0  Tarea:  2  Costes:  18  Valor_acumulado:  43\n",
            "Agente:  1  Tarea:  3  Costes:  22  Valor_acumulado:  65\n",
            "Agente:  2  Tarea:  0  Costes:  11  Valor_acumulado:  11\n",
            "Agente:  3  Tarea:  1  Costes:  14  Valor_acumulado:  25\n",
            "Agente:  1  Tarea:  2  Costes:  13  Valor_acumulado:  38\n",
            "Agente:  0  Tarea:  3  Costes:  40  Valor_acumulado:  78\n",
            "Agente:  3  Tarea:  0  Costes:  17  Valor_acumulado:  17\n",
            "Agente:  0  Tarea:  1  Costes:  12  Valor_acumulado:  29\n",
            "Agente:  1  Tarea:  2  Costes:  13  Valor_acumulado:  42\n",
            "Agente:  2  Tarea:  3  Costes:  23  Valor_acumulado:  65\n",
            "Agente:  3  Tarea:  0  Costes:  17  Valor_acumulado:  17\n",
            "Agente:  0  Tarea:  1  Costes:  12  Valor_acumulado:  29\n",
            "Agente:  2  Tarea:  2  Costes:  19  Valor_acumulado:  48\n",
            "Agente:  1  Tarea:  3  Costes:  22  Valor_acumulado:  70\n",
            "Agente:  3  Tarea:  0  Costes:  17  Valor_acumulado:  17\n",
            "Agente:  1  Tarea:  1  Costes:  15  Valor_acumulado:  32\n",
            "Agente:  0  Tarea:  2  Costes:  18  Valor_acumulado:  50\n",
            "Agente:  2  Tarea:  3  Costes:  23  Valor_acumulado:  73\n",
            "Agente:  3  Tarea:  0  Costes:  17  Valor_acumulado:  17\n",
            "Agente:  1  Tarea:  1  Costes:  15  Valor_acumulado:  32\n",
            "Agente:  2  Tarea:  2  Costes:  19  Valor_acumulado:  51\n",
            "Agente:  0  Tarea:  3  Costes:  40  Valor_acumulado:  91\n",
            "Agente:  3  Tarea:  0  Costes:  17  Valor_acumulado:  17\n",
            "Agente:  2  Tarea:  1  Costes:  17  Valor_acumulado:  34\n",
            "Agente:  0  Tarea:  2  Costes:  18  Valor_acumulado:  52\n",
            "Agente:  1  Tarea:  3  Costes:  22  Valor_acumulado:  74\n",
            "Agente:  3  Tarea:  0  Costes:  17  Valor_acumulado:  17\n",
            "Agente:  2  Tarea:  1  Costes:  17  Valor_acumulado:  34\n",
            "Agente:  1  Tarea:  2  Costes:  13  Valor_acumulado:  47\n",
            "Agente:  0  Tarea:  3  Costes:  40  Valor_acumulado:  87\n",
            "valores  [73, 73, 77, 91, 91]  Soluciones  [(0, 1, 2, 3), (1, 0, 2, 3), (1, 2, 0, 3), (1, 2, 3, 0), (3, 1, 2, 0)]\n",
            "3\n",
            "La solución óptima es:  (3, 1, 2, 0)  con valor 91\n"
          ]
        }
      ]
    },
    {
      "cell_type": "markdown",
      "source": [
        "Como vemos arriba hay dos soluciones que son óptimas no solo una, pero escoge la primera que encuentra"
      ],
      "metadata": {
        "id": "zRP8VnGvCS1t"
      }
    },
    {
      "cell_type": "markdown",
      "source": [
        "**- Si generamos matrices de COSTES con valores aleatorios y de mayor dimensión y probamos ambos algoritmos**"
      ],
      "metadata": {
        "id": "RXiwBjca1h91"
      }
    },
    {
      "cell_type": "code",
      "source": [
        "import numpy as np\n",
        "import time\n",
        "import itertools\n",
        "\n",
        "x,y = 5,5\n",
        "\n",
        "COSTES = np.random.randint(1,50,(x,y))\n",
        "start = time.time()\n",
        "ramificacion_y_poda(COSTES)\n",
        "mid_time = time.time()\n",
        "fuerza_bruta(COSTES)\n",
        "end = time.time()\n",
        "\n",
        "print(\"Ramificación y poda: \"+str(mid_time-start)+\" s\")\n",
        "print(\"Fuerza Bruta: \"+str(end-mid_time)+\" s\")"
      ],
      "metadata": {
        "colab": {
          "base_uri": "https://localhost:8080/"
        },
        "outputId": "be6a7c82-6e16-41c8-9f8b-3d6856b8cfeb",
        "id": "VtKbYdBsEe5F"
      },
      "execution_count": 49,
      "outputs": [
        {
          "output_type": "stream",
          "name": "stdout",
          "text": [
            "La solucion final es: [{'s': (4, 0, 1, 2, 3), 'ci': 81}]  en  74  iteraciones  para dimension:  5\n",
            "valores  [97, 110, 114, 145, 158]  Soluciones  [(0, 1, 2, 3, 4), (0, 1, 3, 2, 4), (0, 1, 4, 2, 3), (0, 3, 1, 2, 4), (3, 0, 1, 2, 4)]\n",
            "4\n",
            "La solución óptima es:  (3, 0, 1, 2, 4)  con valor 158\n",
            "Ramificación y poda: 0.007970809936523438 s\n",
            "Fuerza Bruta: 0.0014331340789794922 s\n"
          ]
        }
      ]
    },
    {
      "cell_type": "markdown",
      "source": [
        "El algoritmo de fuerza bruta funciona mejor con una matriz de 5x5, en comparación con el poda. El orden de complejidad del algoritmo de fuerza bruta es O(n), ya que solo tenemos un bucle, pero es posible que la pendiente de n sea grande por que dentro de dicho bucle se realizan bastante operaciones elementales"
      ],
      "metadata": {
        "id": "-cF1FHN7EkWy"
      }
    },
    {
      "cell_type": "code",
      "source": [
        "import numpy as np\n",
        "import time\n",
        "import itertools\n",
        "\n",
        "x,y = 8,8\n",
        "\n",
        "COSTES = np.random.randint(1,50,(x,y))\n",
        "start = time.time()\n",
        "ramificacion_y_poda(COSTES)\n",
        "mid_time = time.time()\n",
        "fuerza_bruta(COSTES)\n",
        "end = time.time()\n",
        "\n",
        "print(\"Ramificación y poda: \"+str(mid_time-start)+\" s\")\n",
        "print(\"Fuerza Bruta: \"+str(end-mid_time)+\" s\")"
      ],
      "metadata": {
        "colab": {
          "base_uri": "https://localhost:8080/"
        },
        "outputId": "91079bf2-f964-4b79-9563-0fda2c76a731",
        "id": "_n1ShLEBEfrG"
      },
      "execution_count": 50,
      "outputs": [
        {
          "output_type": "stream",
          "name": "stdout",
          "text": [
            "La solucion final es: [{'s': (1, 3, 5, 0, 4, 6, 7, 2), 'ci': 61}]  en  829  iteraciones  para dimension:  8\n",
            "valores  [150, 168, 204, 213, 222, 249, 260, 264, 265, 270, 273, 295, 306, 314, 320, 328, 330, 338]  Soluciones  [(0, 1, 2, 3, 4, 5, 6, 7), (0, 1, 2, 3, 4, 6, 5, 7), (0, 1, 2, 3, 4, 6, 7, 5), (0, 1, 2, 3, 5, 4, 6, 7), (0, 1, 2, 3, 5, 6, 7, 4), (0, 1, 2, 4, 3, 6, 7, 5), (0, 1, 2, 4, 5, 6, 7, 3), (0, 1, 3, 4, 5, 6, 7, 2), (0, 1, 4, 7, 5, 6, 3, 2), (0, 1, 5, 4, 2, 6, 7, 3), (0, 1, 5, 4, 3, 6, 7, 2), (0, 2, 1, 4, 3, 6, 7, 5), (0, 2, 1, 4, 5, 6, 7, 3), (0, 3, 1, 4, 5, 6, 7, 2), (1, 2, 0, 4, 5, 6, 7, 3), (1, 3, 0, 4, 5, 6, 7, 2), (4, 2, 1, 0, 5, 6, 7, 3), (4, 3, 1, 0, 5, 6, 7, 2)]\n",
            "17\n",
            "La solución óptima es:  (4, 3, 1, 0, 5, 6, 7, 2)  con valor 338\n",
            "Ramificación y poda: 0.10994458198547363 s\n",
            "Fuerza Bruta: 0.14078807830810547 s\n"
          ]
        }
      ]
    },
    {
      "cell_type": "markdown",
      "source": [
        "A medida que aumentamos las dimensiones de la matriz de COSTES (8x8 en este caso) el algoritmo de ramificación y poda funciona mejor que el de fuerza bruta"
      ],
      "metadata": {
        "id": "caDqSDcTFLMO"
      }
    },
    {
      "cell_type": "code",
      "source": [
        "import numpy as np\n",
        "import time\n",
        "import itertools\n",
        "\n",
        "x,y = 11,11\n",
        "\n",
        "COSTES = np.random.randint(1,50,(x,y))\n",
        "start = time.time()\n",
        "ramificacion_y_poda(COSTES)\n",
        "mid_time = time.time()\n",
        "fuerza_bruta(COSTES)\n",
        "end = time.time()\n",
        "\n",
        "print(\"Ramificación y poda: \"+str(mid_time-start)+\" s\")\n",
        "print(\"Fuerza Bruta: \"+str(end-mid_time)+\" s\")"
      ],
      "metadata": {
        "id": "fDxlDqL5Cb90"
      },
      "execution_count": null,
      "outputs": []
    },
    {
      "cell_type": "markdown",
      "source": [
        "Con unas dimensiones de 11x11 en la matriz de COSTES, mi ordenador no es capaz de terminar de ejecutar la celda. Es el tope de ramificación y poda"
      ],
      "metadata": {
        "id": "bYNPiMtVFgCE"
      }
    },
    {
      "cell_type": "markdown",
      "source": [
        "##Descenso del gradiente"
      ],
      "metadata": {
        "id": "xGZYrsg8o0js"
      }
    },
    {
      "cell_type": "code",
      "source": [
        "import math                      #Funciones matematicas\n",
        "import matplotlib.pyplot as plt  #Generacion de gráficos (otra opcion seaborn)\n",
        "import numpy as np               #Tratamiento matriz N-dimensionales y otras (fundamental!) \n",
        "#import scipy as sc\n",
        "\n",
        "import random"
      ],
      "metadata": {
        "id": "xK8hlYEno2nk"
      },
      "execution_count": null,
      "outputs": []
    },
    {
      "cell_type": "code",
      "source": [
        "#Definimos la funcion\n",
        "#Paraboloide\n",
        "f  = lambda X:      X[0]**2 + X[1]**2    #Funcion\n",
        "df = lambda X: [2*X[0] , 2*X[1]]         #Gradiente\n",
        " \n",
        "df([1,2])"
      ],
      "metadata": {
        "id": "G2uGoKSdo4fq"
      },
      "execution_count": null,
      "outputs": []
    },
    {
      "cell_type": "code",
      "source": [
        "from sympy import symbols\n",
        "from sympy.plotting import plot\n",
        "from sympy.plotting import plot3d\n",
        "x,y = symbols('x y')\n",
        "plot3d(x**2 + y**2,\n",
        "       (x,-5,5),(y,-5,5),\n",
        "       title='x**2 + y**2',\n",
        "       size=(10,10))"
      ],
      "metadata": {
        "id": "Kgb7r_tWo5qy"
      },
      "execution_count": null,
      "outputs": []
    },
    {
      "cell_type": "code",
      "source": [
        "#Prepara los datos para dibujar mapa de niveles de Z\n",
        "resolucion = 100 \n",
        "rango=5.5\n",
        " \n",
        "X=np.linspace(-rango,rango,resolucion) \n",
        "Y=np.linspace(-rango,rango,resolucion)\n",
        "Z=np.zeros((resolucion,resolucion))\n",
        "for ix,x in enumerate(X):\n",
        "  for iy,y in enumerate(Y):\n",
        "    Z[iy,ix] = f([x,y])\n",
        "\n",
        "#Pinta el mapa de niveles de Z\n",
        "plt.contourf(X,Y,Z,resolucion)\n",
        "plt.colorbar() \n",
        "\n",
        "#Generamos un punto aleatorio inicial y pintamos de blanco\n",
        "P=[random.uniform(-5,5  ),random.uniform(-5,5 ) ]\n",
        "plt.plot(P[0],P[1],\"o\",c=\"white\")\n",
        "\n",
        "#Tasa de aprendizaje. Fija. Sería más efectivo reducirlo a medida que nos acercamos.\n",
        "TA=.1 \n",
        "\n",
        "#Iteraciones:50\n",
        "for _ in range(50):\n",
        "  grad = df(P)\n",
        "  #print(P,grad)\n",
        "  P[0],P[1] = P[0] - TA*grad[0] , P[1] - TA*grad[1]\n",
        "  plt.plot(P[0],P[1],\"o\",c=\"red\")\n",
        "\n",
        "#Dibujamos el punto final y pintamos de verde\n",
        "plt.plot(P[0],P[1],\"o\",c=\"green\")\n",
        "plt.show()\n",
        "print(\"Solucion:\" , P , f(P))\n"
      ],
      "metadata": {
        "id": "lWGzBncno7IP"
      },
      "execution_count": null,
      "outputs": []
    }
  ]
}